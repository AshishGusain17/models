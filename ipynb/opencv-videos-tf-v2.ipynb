{
  "nbformat": 4,
  "nbformat_minor": 0,
  "metadata": {
    "colab": {
      "name": "butterfly_detection_using_tf.ipynb",
      "provenance": [],
      "collapsed_sections": [],
      "include_colab_link": true
    },
    "kernelspec": {
      "name": "python3",
      "display_name": "Python 3"
    },
    "accelerator": "GPU"
  },
  "cells": [
    {
      "cell_type": "markdown",
      "metadata": {
        "id": "view-in-github",
        "colab_type": "text"
      },
      "source": [
        "<a href=\"https://colab.research.google.com/github/AshishGusain17/tf-obj-detection/blob/master/ipynb/opencv-videos-tf-v2.ipynb\" target=\"_parent\"><img src=\"https://colab.research.google.com/assets/colab-badge.svg\" alt=\"Open In Colab\"/></a>"
      ]
    },
    {
      "cell_type": "code",
      "metadata": {
        "id": "dNxjfo6U1uWl",
        "colab_type": "code",
        "colab": {}
      },
      "source": [
        "!pip install --user Cython\n",
        "!pip install --user contextlib2\n",
        "!pip install --user pillow\n",
        "!pip install --user lxml\n",
        "!pip install --user jupyter\n",
        "!pip install --user matplotlib"
      ],
      "execution_count": 0,
      "outputs": []
    },
    {
      "cell_type": "code",
      "metadata": {
        "id": "A5HPU6P-3m1p",
        "colab_type": "code",
        "colab": {
          "base_uri": "https://localhost:8080/",
          "height": 153
        },
        "outputId": "b39d4865-3fa5-40ca-98d2-f8485092cbc7"
      },
      "source": [
        "!git clone https://github.com/AshishGusain17/tf-obj-detection\n",
        "\n"
      ],
      "execution_count": 9,
      "outputs": [
        {
          "output_type": "stream",
          "text": [
            "Cloning into 'tf-obj-detection'...\n",
            "remote: Enumerating objects: 21, done.\u001b[K\n",
            "remote: Counting objects:   4% (1/21)\u001b[K\rremote: Counting objects:   9% (2/21)\u001b[K\rremote: Counting objects:  14% (3/21)\u001b[K\rremote: Counting objects:  19% (4/21)\u001b[K\rremote: Counting objects:  23% (5/21)\u001b[K\rremote: Counting objects:  28% (6/21)\u001b[K\rremote: Counting objects:  33% (7/21)\u001b[K\rremote: Counting objects:  38% (8/21)\u001b[K\rremote: Counting objects:  42% (9/21)\u001b[K\rremote: Counting objects:  47% (10/21)\u001b[K\rremote: Counting objects:  52% (11/21)\u001b[K\rremote: Counting objects:  57% (12/21)\u001b[K\rremote: Counting objects:  61% (13/21)\u001b[K\rremote: Counting objects:  66% (14/21)\u001b[K\rremote: Counting objects:  71% (15/21)\u001b[K\rremote: Counting objects:  76% (16/21)\u001b[K\rremote: Counting objects:  80% (17/21)\u001b[K\rremote: Counting objects:  85% (18/21)\u001b[K\rremote: Counting objects:  90% (19/21)\u001b[K\rremote: Counting objects:  95% (20/21)\u001b[K\rremote: Counting objects: 100% (21/21)\u001b[K\rremote: Counting objects: 100% (21/21), done.\u001b[K\n",
            "remote: Compressing objects: 100% (19/19), done.\u001b[K\n",
            "remote: Total 34254 (delta 3), reused 19 (delta 1), pack-reused 34233\u001b[K\n",
            "Receiving objects: 100% (34254/34254), 512.56 MiB | 36.32 MiB/s, done.\n",
            "Resolving deltas: 100% (22034/22034), done.\n",
            "Checking out files: 100% (2500/2500), done.\n"
          ],
          "name": "stdout"
        }
      ]
    },
    {
      "cell_type": "code",
      "metadata": {
        "id": "_ZK05pHYEeqk",
        "colab_type": "code",
        "outputId": "c661f84f-8483-4ec8-e20a-24d404be76bb",
        "colab": {
          "base_uri": "https://localhost:8080/",
          "height": 1000
        }
      },
      "source": [
        "!python /content/models/research/setup.py build\n",
        "!python /content/models/research/setup.py install"
      ],
      "execution_count": 10,
      "outputs": [
        {
          "output_type": "stream",
          "text": [
            "running build\n",
            "running install\n",
            "running bdist_egg\n",
            "running egg_info\n",
            "creating object_detection.egg-info\n",
            "writing object_detection.egg-info/PKG-INFO\n",
            "writing dependency_links to object_detection.egg-info/dependency_links.txt\n",
            "writing requirements to object_detection.egg-info/requires.txt\n",
            "writing top-level names to object_detection.egg-info/top_level.txt\n",
            "writing manifest file 'object_detection.egg-info/SOURCES.txt'\n",
            "reading manifest file 'object_detection.egg-info/SOURCES.txt'\n",
            "writing manifest file 'object_detection.egg-info/SOURCES.txt'\n",
            "installing library code to build/bdist.linux-x86_64/egg\n",
            "running install_lib\n",
            "warning: install_lib: 'build/lib' does not exist -- no Python modules to install\n",
            "\n",
            "creating build\n",
            "creating build/bdist.linux-x86_64\n",
            "creating build/bdist.linux-x86_64/egg\n",
            "creating build/bdist.linux-x86_64/egg/EGG-INFO\n",
            "copying object_detection.egg-info/PKG-INFO -> build/bdist.linux-x86_64/egg/EGG-INFO\n",
            "copying object_detection.egg-info/SOURCES.txt -> build/bdist.linux-x86_64/egg/EGG-INFO\n",
            "copying object_detection.egg-info/dependency_links.txt -> build/bdist.linux-x86_64/egg/EGG-INFO\n",
            "copying object_detection.egg-info/requires.txt -> build/bdist.linux-x86_64/egg/EGG-INFO\n",
            "copying object_detection.egg-info/top_level.txt -> build/bdist.linux-x86_64/egg/EGG-INFO\n",
            "zip_safe flag not set; analyzing archive contents...\n",
            "creating dist\n",
            "creating 'dist/object_detection-0.1-py3.6.egg' and adding 'build/bdist.linux-x86_64/egg' to it\n",
            "removing 'build/bdist.linux-x86_64/egg' (and everything under it)\n",
            "Processing object_detection-0.1-py3.6.egg\n",
            "Copying object_detection-0.1-py3.6.egg to /usr/local/lib/python3.6/dist-packages\n",
            "Adding object-detection 0.1 to easy-install.pth file\n",
            "\n",
            "Installed /usr/local/lib/python3.6/dist-packages/object_detection-0.1-py3.6.egg\n",
            "Processing dependencies for object-detection==0.1\n",
            "Searching for Cython==0.29.16\n",
            "Best match: Cython 0.29.16\n",
            "Adding Cython 0.29.16 to easy-install.pth file\n",
            "Installing cygdb script to /usr/local/bin\n",
            "Installing cython script to /usr/local/bin\n",
            "Installing cythonize script to /usr/local/bin\n",
            "\n",
            "Using /usr/local/lib/python3.6/dist-packages\n",
            "Searching for matplotlib==3.2.1\n",
            "Best match: matplotlib 3.2.1\n",
            "Adding matplotlib 3.2.1 to easy-install.pth file\n",
            "\n",
            "Using /usr/local/lib/python3.6/dist-packages\n",
            "Searching for Pillow==7.0.0\n",
            "Best match: Pillow 7.0.0\n",
            "Adding Pillow 7.0.0 to easy-install.pth file\n",
            "\n",
            "Using /usr/local/lib/python3.6/dist-packages\n",
            "Searching for numpy==1.18.2\n",
            "Best match: numpy 1.18.2\n",
            "Adding numpy 1.18.2 to easy-install.pth file\n",
            "Installing f2py script to /usr/local/bin\n",
            "Installing f2py3 script to /usr/local/bin\n",
            "Installing f2py3.6 script to /usr/local/bin\n",
            "\n",
            "Using /usr/local/lib/python3.6/dist-packages\n",
            "Searching for pyparsing==2.4.7\n",
            "Best match: pyparsing 2.4.7\n",
            "Adding pyparsing 2.4.7 to easy-install.pth file\n",
            "\n",
            "Using /usr/local/lib/python3.6/dist-packages\n",
            "Searching for cycler==0.10.0\n",
            "Best match: cycler 0.10.0\n",
            "Adding cycler 0.10.0 to easy-install.pth file\n",
            "\n",
            "Using /usr/local/lib/python3.6/dist-packages\n",
            "Searching for python-dateutil==2.8.1\n",
            "Best match: python-dateutil 2.8.1\n",
            "Adding python-dateutil 2.8.1 to easy-install.pth file\n",
            "\n",
            "Using /usr/local/lib/python3.6/dist-packages\n",
            "Searching for kiwisolver==1.2.0\n",
            "Best match: kiwisolver 1.2.0\n",
            "Adding kiwisolver 1.2.0 to easy-install.pth file\n",
            "\n",
            "Using /usr/local/lib/python3.6/dist-packages\n",
            "Searching for six==1.12.0\n",
            "Best match: six 1.12.0\n",
            "Adding six 1.12.0 to easy-install.pth file\n",
            "\n",
            "Using /usr/local/lib/python3.6/dist-packages\n",
            "Finished processing dependencies for object-detection==0.1\n"
          ],
          "name": "stdout"
        }
      ]
    },
    {
      "cell_type": "code",
      "metadata": {
        "id": "KKHo5pG_x5Dg",
        "colab_type": "code",
        "outputId": "447da298-ee8d-443d-dd91-3c2df8bd4044",
        "colab": {
          "base_uri": "https://localhost:8080/",
          "height": 122
        }
      },
      "source": [
        "from google.colab import drive\n",
        "drive.mount('/content/drive', force_remount=True)"
      ],
      "execution_count": 11,
      "outputs": [
        {
          "output_type": "stream",
          "text": [
            "Go to this URL in a browser: https://accounts.google.com/o/oauth2/auth?client_id=947318989803-6bn6qk8qdgf4n4g3pfee6491hc0brc4i.apps.googleusercontent.com&redirect_uri=urn%3aietf%3awg%3aoauth%3a2.0%3aoob&response_type=code&scope=email%20https%3a%2f%2fwww.googleapis.com%2fauth%2fdocs.test%20https%3a%2f%2fwww.googleapis.com%2fauth%2fdrive%20https%3a%2f%2fwww.googleapis.com%2fauth%2fdrive.photos.readonly%20https%3a%2f%2fwww.googleapis.com%2fauth%2fpeopleapi.readonly\n",
            "\n",
            "Enter your authorization code:\n",
            "··········\n",
            "Mounted at /content/drive\n"
          ],
          "name": "stdout"
        }
      ]
    },
    {
      "cell_type": "code",
      "metadata": {
        "id": "Aa4Ziv5ux5uX",
        "colab_type": "code",
        "colab": {}
      },
      "source": [
        "!cp -r --recursive '/content/drive/My Drive/colab_obj_detection/faster_rcnn_resnet101_coco_2018_01_28' '/content/models/research/object_detection'\n",
        "!cp -r --recursive '/content/drive/My Drive/colab_obj_detection/faster_rcnn_inception_resnet_v2_atrous_oid_v4_2018_12_12' '/content/models/research/object_detection'\n",
        "!cp -r --recursive '/content/drive/My Drive/colab_obj_detection/mask_rcnn_inception_resnet_v2_atrous_coco_2018_01_28' '/content/models/research/object_detection'\n",
        "\n",
        "!cp -r --recursive '/content/drive/My Drive/colab_obj_detection/training' '/content/models/research/object_detection'\n",
        "!cp -r --recursive '/content/drive/My Drive/colab_obj_detection/images' '/content/models/research/object_detection'"
      ],
      "execution_count": 0,
      "outputs": []
    },
    {
      "cell_type": "code",
      "metadata": {
        "id": "RNXxD8eZ2YsQ",
        "colab_type": "code",
        "outputId": "3cbffc8a-ac40-469c-ed51-42dfb2aafa6b",
        "colab": {
          "base_uri": "https://localhost:8080/",
          "height": 153
        }
      },
      "source": [
        "\n",
        "%cd /content/models/research\n",
        "%set_env PYTHONPATH=/content/models/research:/content/models/research/slim\n",
        "%cd object_detection/legacy\n",
        "%cd ..\n",
        "%cd ..\n",
        "%cd ..\n",
        "%cd ..\n",
        "%cd .."
      ],
      "execution_count": 12,
      "outputs": [
        {
          "output_type": "stream",
          "text": [
            "/content/models/research\n",
            "env: PYTHONPATH=/content/models/research:/content/models/research/slim\n",
            "/content/models/research/object_detection/legacy\n",
            "/content/models/research/object_detection\n",
            "/content/models/research\n",
            "/content/models\n",
            "/content\n",
            "/\n"
          ],
          "name": "stdout"
        }
      ]
    },
    {
      "cell_type": "code",
      "metadata": {
        "id": "MEC5ZhAd4LyV",
        "colab_type": "code",
        "outputId": "f37a1a20-1089-4b6b-87ef-a01ec75d751f",
        "colab": {
          "base_uri": "https://localhost:8080/",
          "height": 136
        }
      },
      "source": [
        "%ls"
      ],
      "execution_count": 7,
      "outputs": [
        {
          "output_type": "stream",
          "text": [
            "\u001b[0m\u001b[01;34mbin\u001b[0m/                                       \u001b[01;34metc\u001b[0m/    \u001b[01;34mopt\u001b[0m/    \u001b[01;34msys\u001b[0m/\n",
            "\u001b[01;34mboot\u001b[0m/                                      \u001b[01;34mhome\u001b[0m/   \u001b[01;34mproc\u001b[0m/   \u001b[01;34mtensorflow-1.15.2\u001b[0m/\n",
            "\u001b[01;34mcontent\u001b[0m/                                   \u001b[01;34mlib\u001b[0m/    \u001b[01;34mroot\u001b[0m/   \u001b[30;42mtmp\u001b[0m/\n",
            "\u001b[01;34mdatalab\u001b[0m/                                   \u001b[01;34mlib32\u001b[0m/  \u001b[01;34mrun\u001b[0m/    \u001b[01;34mtools\u001b[0m/\n",
            "\u001b[01;34mdev\u001b[0m/                                       \u001b[01;34mlib64\u001b[0m/  \u001b[01;34msbin\u001b[0m/   \u001b[01;34musr\u001b[0m/\n",
            "dlib-19.18.0-cp27-cp27mu-linux_x86_64.whl  \u001b[01;34mmedia\u001b[0m/  \u001b[01;34msrv\u001b[0m/    \u001b[01;34mvar\u001b[0m/\n",
            "dlib-19.18.0-cp36-cp36m-linux_x86_64.whl   \u001b[01;34mmnt\u001b[0m/    \u001b[01;34mswift\u001b[0m/\n"
          ],
          "name": "stdout"
        }
      ]
    },
    {
      "cell_type": "code",
      "metadata": {
        "id": "WbgHogus2vUd",
        "colab_type": "code",
        "outputId": "d15acaa0-427c-4aaf-b92d-11d68be8b865",
        "colab": {
          "base_uri": "https://localhost:8080/",
          "height": 632
        }
      },
      "source": [
        "!pip install -U --pre tensorflow==\"2.*\""
      ],
      "execution_count": 18,
      "outputs": [
        {
          "output_type": "stream",
          "text": [
            "Requirement already up-to-date: tensorflow==2.* in /usr/local/lib/python3.6/dist-packages (2.2.0rc3)\n",
            "Requirement already satisfied, skipping upgrade: absl-py>=0.7.0 in /usr/local/lib/python3.6/dist-packages (from tensorflow==2.*) (0.9.0)\n",
            "Requirement already satisfied, skipping upgrade: tensorboard<2.3.0,>=2.2.0 in /usr/local/lib/python3.6/dist-packages (from tensorflow==2.*) (2.2.1)\n",
            "Requirement already satisfied, skipping upgrade: wrapt>=1.11.1 in /usr/local/lib/python3.6/dist-packages (from tensorflow==2.*) (1.12.1)\n",
            "Requirement already satisfied, skipping upgrade: termcolor>=1.1.0 in /usr/local/lib/python3.6/dist-packages (from tensorflow==2.*) (1.1.0)\n",
            "Requirement already satisfied, skipping upgrade: six>=1.12.0 in /usr/local/lib/python3.6/dist-packages (from tensorflow==2.*) (1.12.0)\n",
            "Requirement already satisfied, skipping upgrade: scipy==1.4.1; python_version >= \"3\" in /usr/local/lib/python3.6/dist-packages (from tensorflow==2.*) (1.4.1)\n",
            "Requirement already satisfied, skipping upgrade: grpcio>=1.8.6 in /usr/local/lib/python3.6/dist-packages (from tensorflow==2.*) (1.28.1)\n",
            "Requirement already satisfied, skipping upgrade: gast==0.3.3 in /usr/local/lib/python3.6/dist-packages (from tensorflow==2.*) (0.3.3)\n",
            "Requirement already satisfied, skipping upgrade: opt-einsum>=2.3.2 in /usr/local/lib/python3.6/dist-packages (from tensorflow==2.*) (3.2.1)\n",
            "Requirement already satisfied, skipping upgrade: keras-preprocessing>=1.1.0 in /usr/local/lib/python3.6/dist-packages (from tensorflow==2.*) (1.1.0)\n",
            "Requirement already satisfied, skipping upgrade: h5py<2.11.0,>=2.10.0 in /usr/local/lib/python3.6/dist-packages (from tensorflow==2.*) (2.10.0)\n",
            "Requirement already satisfied, skipping upgrade: numpy<2.0,>=1.16.0 in /usr/local/lib/python3.6/dist-packages (from tensorflow==2.*) (1.18.2)\n",
            "Requirement already satisfied, skipping upgrade: astunparse==1.6.3 in /usr/local/lib/python3.6/dist-packages (from tensorflow==2.*) (1.6.3)\n",
            "Requirement already satisfied, skipping upgrade: tensorflow-estimator<2.3.0,>=2.2.0rc0 in /usr/local/lib/python3.6/dist-packages (from tensorflow==2.*) (2.2.0)\n",
            "Requirement already satisfied, skipping upgrade: protobuf>=3.8.0 in /usr/local/lib/python3.6/dist-packages (from tensorflow==2.*) (3.10.0)\n",
            "Requirement already satisfied, skipping upgrade: wheel>=0.26; python_version >= \"3\" in /usr/local/lib/python3.6/dist-packages (from tensorflow==2.*) (0.34.2)\n",
            "Requirement already satisfied, skipping upgrade: google-pasta>=0.1.8 in /usr/local/lib/python3.6/dist-packages (from tensorflow==2.*) (0.2.0)\n",
            "Requirement already satisfied, skipping upgrade: google-auth<2,>=1.6.3 in /usr/local/lib/python3.6/dist-packages (from tensorboard<2.3.0,>=2.2.0->tensorflow==2.*) (1.7.2)\n",
            "Requirement already satisfied, skipping upgrade: werkzeug>=0.11.15 in /usr/local/lib/python3.6/dist-packages (from tensorboard<2.3.0,>=2.2.0->tensorflow==2.*) (1.0.1)\n",
            "Requirement already satisfied, skipping upgrade: google-auth-oauthlib<0.5,>=0.4.1 in /usr/local/lib/python3.6/dist-packages (from tensorboard<2.3.0,>=2.2.0->tensorflow==2.*) (0.4.1)\n",
            "Requirement already satisfied, skipping upgrade: requests<3,>=2.21.0 in /usr/local/lib/python3.6/dist-packages (from tensorboard<2.3.0,>=2.2.0->tensorflow==2.*) (2.21.0)\n",
            "Requirement already satisfied, skipping upgrade: tensorboard-plugin-wit>=1.6.0 in /usr/local/lib/python3.6/dist-packages (from tensorboard<2.3.0,>=2.2.0->tensorflow==2.*) (1.6.0.post3)\n",
            "Requirement already satisfied, skipping upgrade: markdown>=2.6.8 in /usr/local/lib/python3.6/dist-packages (from tensorboard<2.3.0,>=2.2.0->tensorflow==2.*) (3.2.1)\n",
            "Requirement already satisfied, skipping upgrade: setuptools>=41.0.0 in /usr/local/lib/python3.6/dist-packages (from tensorboard<2.3.0,>=2.2.0->tensorflow==2.*) (46.1.3)\n",
            "Requirement already satisfied, skipping upgrade: pyasn1-modules>=0.2.1 in /usr/local/lib/python3.6/dist-packages (from google-auth<2,>=1.6.3->tensorboard<2.3.0,>=2.2.0->tensorflow==2.*) (0.2.8)\n",
            "Requirement already satisfied, skipping upgrade: cachetools<3.2,>=2.0.0 in /usr/local/lib/python3.6/dist-packages (from google-auth<2,>=1.6.3->tensorboard<2.3.0,>=2.2.0->tensorflow==2.*) (3.1.1)\n",
            "Requirement already satisfied, skipping upgrade: rsa<4.1,>=3.1.4 in /usr/local/lib/python3.6/dist-packages (from google-auth<2,>=1.6.3->tensorboard<2.3.0,>=2.2.0->tensorflow==2.*) (4.0)\n",
            "Requirement already satisfied, skipping upgrade: requests-oauthlib>=0.7.0 in /usr/local/lib/python3.6/dist-packages (from google-auth-oauthlib<0.5,>=0.4.1->tensorboard<2.3.0,>=2.2.0->tensorflow==2.*) (1.3.0)\n",
            "Requirement already satisfied, skipping upgrade: certifi>=2017.4.17 in /usr/local/lib/python3.6/dist-packages (from requests<3,>=2.21.0->tensorboard<2.3.0,>=2.2.0->tensorflow==2.*) (2020.4.5.1)\n",
            "Requirement already satisfied, skipping upgrade: urllib3<1.25,>=1.21.1 in /usr/local/lib/python3.6/dist-packages (from requests<3,>=2.21.0->tensorboard<2.3.0,>=2.2.0->tensorflow==2.*) (1.24.3)\n",
            "Requirement already satisfied, skipping upgrade: chardet<3.1.0,>=3.0.2 in /usr/local/lib/python3.6/dist-packages (from requests<3,>=2.21.0->tensorboard<2.3.0,>=2.2.0->tensorflow==2.*) (3.0.4)\n",
            "Requirement already satisfied, skipping upgrade: idna<2.9,>=2.5 in /usr/local/lib/python3.6/dist-packages (from requests<3,>=2.21.0->tensorboard<2.3.0,>=2.2.0->tensorflow==2.*) (2.8)\n",
            "Requirement already satisfied, skipping upgrade: pyasn1<0.5.0,>=0.4.6 in /usr/local/lib/python3.6/dist-packages (from pyasn1-modules>=0.2.1->google-auth<2,>=1.6.3->tensorboard<2.3.0,>=2.2.0->tensorflow==2.*) (0.4.8)\n",
            "Requirement already satisfied, skipping upgrade: oauthlib>=3.0.0 in /usr/local/lib/python3.6/dist-packages (from requests-oauthlib>=0.7.0->google-auth-oauthlib<0.5,>=0.4.1->tensorboard<2.3.0,>=2.2.0->tensorflow==2.*) (3.1.0)\n"
          ],
          "name": "stdout"
        }
      ]
    },
    {
      "cell_type": "code",
      "metadata": {
        "id": "RrjxOlhqCyqS",
        "colab_type": "code",
        "outputId": "baaed2fd-742f-4107-f758-19b6eb501ca1",
        "colab": {
          "base_uri": "https://localhost:8080/",
          "height": 34
        }
      },
      "source": [
        "!pip install pycocotools"
      ],
      "execution_count": 17,
      "outputs": [
        {
          "output_type": "stream",
          "text": [
            "Requirement already satisfied: pycocotools in /usr/local/lib/python3.6/dist-packages (2.0.0)\n"
          ],
          "name": "stdout"
        }
      ]
    },
    {
      "cell_type": "code",
      "metadata": {
        "id": "fvWekUIxceRj",
        "colab_type": "code",
        "colab": {
          "base_uri": "https://localhost:8080/",
          "height": 153
        },
        "outputId": "2be09849-dc73-45c2-fb33-aa965954617d"
      },
      "source": [
        "!ls\n",
        "%cd /content/models/research\n"
      ],
      "execution_count": 19,
      "outputs": [
        {
          "output_type": "stream",
          "text": [
            "bin\t\t\t\t\t   etc\t  opt\t sys\n",
            "boot\t\t\t\t\t   home   proc\t tensorflow-1.15.2\n",
            "content\t\t\t\t\t   lib\t  root\t tmp\n",
            "datalab\t\t\t\t\t   lib32  run\t tools\n",
            "dev\t\t\t\t\t   lib64  sbin\t usr\n",
            "dlib-19.18.0-cp27-cp27mu-linux_x86_64.whl  media  srv\t var\n",
            "dlib-19.18.0-cp36-cp36m-linux_x86_64.whl   mnt\t  swift\n",
            "/content/models/research\n"
          ],
          "name": "stdout"
        }
      ]
    },
    {
      "cell_type": "code",
      "metadata": {
        "id": "4lL3CyRwyXja",
        "colab_type": "code",
        "colab": {}
      },
      "source": [
        "import numpy as np\n",
        "import os\n",
        "import six.moves.urllib as urllib\n",
        "import sys\n",
        "import tarfile\n",
        "import tensorflow as tf\n",
        "import zipfile\n",
        "import os\n",
        "import pathlib\n",
        "from collections import defaultdict\n",
        "from io import StringIO\n",
        "from matplotlib import pyplot as plt\n",
        "from PIL import Image\n",
        "from IPython.display import display"
      ],
      "execution_count": 0,
      "outputs": []
    },
    {
      "cell_type": "code",
      "metadata": {
        "id": "ujA-ZMXpyeB0",
        "colab_type": "code",
        "colab": {}
      },
      "source": [
        "from object_detection.utils import ops as utils_ops\n",
        "from object_detection.utils import label_map_util\n",
        "from object_detection.utils import visualization_utils as vis_util"
      ],
      "execution_count": 0,
      "outputs": []
    },
    {
      "cell_type": "code",
      "metadata": {
        "id": "HA-1aoMc83Yo",
        "colab_type": "code",
        "colab": {}
      },
      "source": [
        "# patch tf1 into `utils.ops`\n",
        "utils_ops.tf = tf.compat.v1\n",
        "\n",
        "# Patch the location of gfile\n",
        "tf.gfile = tf.io.gfile"
      ],
      "execution_count": 0,
      "outputs": []
    },
    {
      "cell_type": "code",
      "metadata": {
        "id": "Gch25hQW83cq",
        "colab_type": "code",
        "colab": {}
      },
      "source": [
        "def load_model(model_name):\n",
        "  base_url = 'http://download.tensorflow.org/models/object_detection/'\n",
        "  model_file = model_name + '.tar.gz'\n",
        "  model_dir = tf.keras.utils.get_file(\n",
        "    fname=model_name, \n",
        "    origin=base_url + model_file,\n",
        "    untar=True)\n",
        "\n",
        "  model_dir = pathlib.Path(model_dir)/\"saved_model\"\n",
        "\n",
        "  model = tf.saved_model.load(str(model_dir))\n",
        "  model = model.signatures['serving_default']\n",
        "\n",
        "  return model"
      ],
      "execution_count": 0,
      "outputs": []
    },
    {
      "cell_type": "code",
      "metadata": {
        "id": "oRqk3P4B83Wv",
        "colab_type": "code",
        "colab": {}
      },
      "source": [
        "PATH_TO_LABELS = '/content/models/research/object_detection/data/mscoco_label_map.pbtxt'\n",
        "category_index = label_map_util.create_category_index_from_labelmap(PATH_TO_LABELS, use_display_name=True)"
      ],
      "execution_count": 0,
      "outputs": []
    },
    {
      "cell_type": "code",
      "metadata": {
        "id": "WMuiILYh83PX",
        "colab_type": "code",
        "colab": {}
      },
      "source": [
        "# If you want to test the code with your images, just add path to the images to the TEST_IMAGE_PATHS.\n",
        "# PATH_TO_TEST_IMAGES_DIR = pathlib.Path('/content/models/research/object_detection/test_images')\n",
        "# TEST_IMAGE_PATHS = sorted(list(PATH_TO_TEST_IMAGES_DIR.glob(\"*.jpg\")))\n",
        "# TEST_IMAGE_PATHS"
      ],
      "execution_count": 0,
      "outputs": []
    },
    {
      "cell_type": "code",
      "metadata": {
        "id": "fzi2zv2ZIp69",
        "colab_type": "code",
        "outputId": "b056c208-59ca-4240-e8bf-b7ce7380f41a",
        "colab": {
          "base_uri": "https://localhost:8080/",
          "height": 88
        }
      },
      "source": [
        "model_name = 'faster_rcnn_inception_resnet_v2_atrous_coco_2018_01_28'\n",
        "detection_model = load_model(model_name)\n",
        "# http://download.tensorflow.org/models/object_detection/ssd_mobilenet_v1_coco_2018_01_28.tar.gz\n",
        "# http://download.tensorflow.org/models/object_detection/faster_rcnn_resnet101_kitti_2018_01_28.tar.gz\n",
        "# http://download.tensorflow.org/models/object_detection/faster_rcnn_inception_resnet_v2_atrous_coco_2018_01_28.tar.gz"
      ],
      "execution_count": 100,
      "outputs": [
        {
          "output_type": "stream",
          "text": [
            "Downloading data from http://download.tensorflow.org/models/object_detection/faster_rcnn_inception_resnet_v2_atrous_coco_2018_01_28.tar.gz\n",
            "672227328/672221478 [==============================] - 9s 0us/step\n",
            "INFO:tensorflow:Saver not created because there are no variables in the graph to restore\n"
          ],
          "name": "stdout"
        }
      ]
    },
    {
      "cell_type": "code",
      "metadata": {
        "id": "ni-sZLBWIp-p",
        "colab_type": "code",
        "outputId": "c0d072ab-18a2-495c-d65c-bf62014c6b7a",
        "colab": {
          "base_uri": "https://localhost:8080/",
          "height": 34
        }
      },
      "source": [
        "print(detection_model.inputs)"
      ],
      "execution_count": 92,
      "outputs": [
        {
          "output_type": "stream",
          "text": [
            "[<tf.Tensor 'image_tensor:0' shape=(None, None, None, 3) dtype=uint8>]\n"
          ],
          "name": "stdout"
        }
      ]
    },
    {
      "cell_type": "code",
      "metadata": {
        "id": "K5rDZ2boIqEr",
        "colab_type": "code",
        "outputId": "73d66eac-e556-404f-a7b1-09823e3a3747",
        "colab": {
          "base_uri": "https://localhost:8080/",
          "height": 85
        }
      },
      "source": [
        "detection_model.output_dtypes"
      ],
      "execution_count": 93,
      "outputs": [
        {
          "output_type": "execute_result",
          "data": {
            "text/plain": [
              "{'detection_boxes': tf.float32,\n",
              " 'detection_classes': tf.float32,\n",
              " 'detection_scores': tf.float32,\n",
              " 'num_detections': tf.float32}"
            ]
          },
          "metadata": {
            "tags": []
          },
          "execution_count": 93
        }
      ]
    },
    {
      "cell_type": "code",
      "metadata": {
        "id": "h0P0guUuIqKN",
        "colab_type": "code",
        "outputId": "b46eda4d-e6b0-4961-930a-96b5abd4248a",
        "colab": {
          "base_uri": "https://localhost:8080/",
          "height": 85
        }
      },
      "source": [
        "detection_model.output_shapes"
      ],
      "execution_count": 94,
      "outputs": [
        {
          "output_type": "execute_result",
          "data": {
            "text/plain": [
              "{'detection_boxes': TensorShape([None, 100, 4]),\n",
              " 'detection_classes': TensorShape([None, 100]),\n",
              " 'detection_scores': TensorShape([None, 100]),\n",
              " 'num_detections': TensorShape([None])}"
            ]
          },
          "metadata": {
            "tags": []
          },
          "execution_count": 94
        }
      ]
    },
    {
      "cell_type": "code",
      "metadata": {
        "id": "p8mPN7d7IqPg",
        "colab_type": "code",
        "colab": {}
      },
      "source": [
        "def run_inference_for_single_image(model, image):\n",
        "  image = np.asarray(image)\n",
        "  # The input needs to be a tensor, convert it using `tf.convert_to_tensor`.\n",
        "  input_tensor = tf.convert_to_tensor(image)\n",
        "  # The model expects a batch of images, so add an axis with `tf.newaxis`.\n",
        "  input_tensor = input_tensor[tf.newaxis,...]\n",
        "\n",
        "  # Run inference\n",
        "  output_dict = model(input_tensor)\n",
        "\n",
        "  # All outputs are batches tensors.\n",
        "  # Convert to numpy arrays, and take index [0] to remove the batch dimension.\n",
        "  # We're only interested in the first num_detections.\n",
        "  num_detections = int(output_dict.pop('num_detections'))\n",
        "  output_dict = {key:value[0, :num_detections].numpy() \n",
        "                 for key,value in output_dict.items()}\n",
        "  output_dict['num_detections'] = num_detections\n",
        "\n",
        "  # detection_classes should be ints.\n",
        "  output_dict['detection_classes'] = output_dict['detection_classes'].astype(np.int64)\n",
        "   \n",
        "  # Handle models with masks:\n",
        "  if 'detection_masks' in output_dict:\n",
        "    # Reframe the the bbox mask to the image size.\n",
        "    detection_masks_reframed = utils_ops.reframe_box_masks_to_image_masks(\n",
        "              output_dict['detection_masks'], output_dict['detection_boxes'],\n",
        "               image.shape[0], image.shape[1])      \n",
        "    detection_masks_reframed = tf.cast(detection_masks_reframed > 0.5,\n",
        "                                       tf.uint8)\n",
        "    output_dict['detection_masks_reframed'] = detection_masks_reframed.numpy()\n",
        "    \n",
        "  return output_dict"
      ],
      "execution_count": 0,
      "outputs": []
    },
    {
      "cell_type": "code",
      "metadata": {
        "id": "tN4le2yHIqVD",
        "colab_type": "code",
        "colab": {}
      },
      "source": [
        "def show_inference(model, image_path):\n",
        "  # the array based representation of the image will be used later in order to prepare the\n",
        "  # result image with boxes and labels on it.\n",
        "  # image_np = np.array(Image.open(image_path))\n",
        "  image_np = np.array(image_path)\n",
        "  print(image_np.shape)\n",
        "\n",
        "  # Actual detection.\n",
        "  output_dict = run_inference_for_single_image(model, image_np)\n",
        "  # Visualization of the results of a detection.\n",
        "  vis_util.visualize_boxes_and_labels_on_image_array(\n",
        "      image_np,\n",
        "      output_dict['detection_boxes'],\n",
        "      output_dict['detection_classes'],\n",
        "      output_dict['detection_scores'],\n",
        "      category_index,\n",
        "      instance_masks=output_dict.get('detection_masks_reframed', None),\n",
        "      use_normalized_coordinates=True,\n",
        "      line_thickness=8)\n",
        "\n",
        "  # display(Image.fromarray(image_np))\n",
        "  return image_np\n"
      ],
      "execution_count": 0,
      "outputs": []
    },
    {
      "cell_type": "code",
      "metadata": {
        "id": "q5Nd2pDvIqap",
        "colab_type": "code",
        "colab": {}
      },
      "source": [
        "for image_path in TEST_IMAGE_PATHS:\n",
        "  show_inference(detection_model, image_path)"
      ],
      "execution_count": 0,
      "outputs": []
    },
    {
      "cell_type": "code",
      "metadata": {
        "id": "8UZuXaBAIqgg",
        "colab_type": "code",
        "colab": {}
      },
      "source": [
        ""
      ],
      "execution_count": 0,
      "outputs": []
    },
    {
      "cell_type": "code",
      "metadata": {
        "id": "-Iq5bNtQIqm3",
        "colab_type": "code",
        "colab": {}
      },
      "source": [
        ""
      ],
      "execution_count": 0,
      "outputs": []
    },
    {
      "cell_type": "code",
      "metadata": {
        "id": "DZxC5R0NIqsP",
        "colab_type": "code",
        "colab": {
          "base_uri": "https://localhost:8080/",
          "height": 1000
        },
        "outputId": "df8267ee-99ce-4d3d-90b5-0acf809dce78"
      },
      "source": [
        "from collections import deque\n",
        "from imutils.video import VideoStream\n",
        "from imutils.video import FPS\n",
        "import numpy as np\n",
        "import argparse\n",
        "import cv2\n",
        "import imutils\n",
        "import time\n",
        "from sklearn.metrics import pairwise\n",
        "from google.colab.patches import cv2_imshow\n",
        "\n",
        "# cap=cv2.VideoCapture('/content/dog_park.mp4')\n",
        "cap=cv2.VideoCapture('/content/highway.mp4')\n",
        "fourcc = cv2.VideoWriter_fourcc(*'XVID')\n",
        "out1 = cv2.VideoWriter('s.avi', fourcc, 30.0, (int(cap.get(3)),int(cap.get(4))))\n",
        "fps = FPS().start()\n",
        "time.sleep(2.0)\n",
        "\n",
        "ctt = 0\n",
        "while True:\n",
        "    (grabbed, frame) = cap.read()\n",
        "    print('frame',frame.shape)\n",
        "\n",
        "    # frame = imutils.resize(frame, width=600)               this line is actually not working, needs to find reason\n",
        "    # print('frame_resize',frame.shape)\n",
        "    print(ctt)\n",
        "    ctt = ctt + 1\n",
        "    if ctt > 150:\n",
        "      break\n",
        "    frame=show_inference(detection_model, frame)\n",
        "\n",
        "\n",
        "    # if ctt%20==0:\n",
        "    #   cv2_imshow( frame)\n",
        "\n",
        "    out1.write(frame)\n",
        "    # update the FPS counter\n",
        "    fps.update()\n",
        "    key=cv2.waitKey(100)\n",
        "    if key & 0xFF == ord(\"q\"):\n",
        "        break\n",
        "\n",
        "# stop the timer and display FPS information\n",
        "fps.stop()\n",
        "print(\"[INFO] elasped time: {:.2f}\".format(fps.elapsed()))\n",
        "print(\"[INFO] approx. FPS: {:.2f}\".format(fps.fps()))\n",
        "cap.release()\n",
        "out1.release()\n",
        "cv2.destroyAllWindows()"
      ],
      "execution_count": 105,
      "outputs": [
        {
          "output_type": "stream",
          "text": [
            "frame (720, 1280, 3)\n",
            "0\n",
            "(720, 1280, 3)\n",
            "frame (720, 1280, 3)\n",
            "1\n",
            "(720, 1280, 3)\n",
            "frame (720, 1280, 3)\n",
            "2\n",
            "(720, 1280, 3)\n",
            "frame (720, 1280, 3)\n",
            "3\n",
            "(720, 1280, 3)\n",
            "frame (720, 1280, 3)\n",
            "4\n",
            "(720, 1280, 3)\n",
            "frame (720, 1280, 3)\n",
            "5\n",
            "(720, 1280, 3)\n",
            "frame (720, 1280, 3)\n",
            "6\n",
            "(720, 1280, 3)\n",
            "frame (720, 1280, 3)\n",
            "7\n",
            "(720, 1280, 3)\n",
            "frame (720, 1280, 3)\n",
            "8\n",
            "(720, 1280, 3)\n",
            "frame (720, 1280, 3)\n",
            "9\n",
            "(720, 1280, 3)\n",
            "frame (720, 1280, 3)\n",
            "10\n",
            "(720, 1280, 3)\n",
            "frame (720, 1280, 3)\n",
            "11\n",
            "(720, 1280, 3)\n",
            "frame (720, 1280, 3)\n",
            "12\n",
            "(720, 1280, 3)\n",
            "frame (720, 1280, 3)\n",
            "13\n",
            "(720, 1280, 3)\n",
            "frame (720, 1280, 3)\n",
            "14\n",
            "(720, 1280, 3)\n",
            "frame (720, 1280, 3)\n",
            "15\n",
            "(720, 1280, 3)\n",
            "frame (720, 1280, 3)\n",
            "16\n",
            "(720, 1280, 3)\n",
            "frame (720, 1280, 3)\n",
            "17\n",
            "(720, 1280, 3)\n",
            "frame (720, 1280, 3)\n",
            "18\n",
            "(720, 1280, 3)\n",
            "frame (720, 1280, 3)\n",
            "19\n",
            "(720, 1280, 3)\n",
            "frame (720, 1280, 3)\n",
            "20\n",
            "(720, 1280, 3)\n",
            "frame (720, 1280, 3)\n",
            "21\n",
            "(720, 1280, 3)\n",
            "frame (720, 1280, 3)\n",
            "22\n",
            "(720, 1280, 3)\n",
            "frame (720, 1280, 3)\n",
            "23\n",
            "(720, 1280, 3)\n",
            "frame (720, 1280, 3)\n",
            "24\n",
            "(720, 1280, 3)\n",
            "frame (720, 1280, 3)\n",
            "25\n",
            "(720, 1280, 3)\n",
            "frame (720, 1280, 3)\n",
            "26\n",
            "(720, 1280, 3)\n",
            "frame (720, 1280, 3)\n",
            "27\n",
            "(720, 1280, 3)\n",
            "frame (720, 1280, 3)\n",
            "28\n",
            "(720, 1280, 3)\n",
            "frame (720, 1280, 3)\n",
            "29\n",
            "(720, 1280, 3)\n",
            "frame (720, 1280, 3)\n",
            "30\n",
            "(720, 1280, 3)\n",
            "frame (720, 1280, 3)\n",
            "31\n",
            "(720, 1280, 3)\n",
            "frame (720, 1280, 3)\n",
            "32\n",
            "(720, 1280, 3)\n",
            "frame (720, 1280, 3)\n",
            "33\n",
            "(720, 1280, 3)\n",
            "frame (720, 1280, 3)\n",
            "34\n",
            "(720, 1280, 3)\n",
            "frame (720, 1280, 3)\n",
            "35\n",
            "(720, 1280, 3)\n",
            "frame (720, 1280, 3)\n",
            "36\n",
            "(720, 1280, 3)\n",
            "frame (720, 1280, 3)\n",
            "37\n",
            "(720, 1280, 3)\n",
            "frame (720, 1280, 3)\n",
            "38\n",
            "(720, 1280, 3)\n",
            "frame (720, 1280, 3)\n",
            "39\n",
            "(720, 1280, 3)\n",
            "frame (720, 1280, 3)\n",
            "40\n",
            "(720, 1280, 3)\n",
            "frame (720, 1280, 3)\n",
            "41\n",
            "(720, 1280, 3)\n",
            "frame (720, 1280, 3)\n",
            "42\n",
            "(720, 1280, 3)\n",
            "frame (720, 1280, 3)\n",
            "43\n",
            "(720, 1280, 3)\n",
            "frame (720, 1280, 3)\n",
            "44\n",
            "(720, 1280, 3)\n",
            "frame (720, 1280, 3)\n",
            "45\n",
            "(720, 1280, 3)\n",
            "frame (720, 1280, 3)\n",
            "46\n",
            "(720, 1280, 3)\n",
            "frame (720, 1280, 3)\n",
            "47\n",
            "(720, 1280, 3)\n",
            "frame (720, 1280, 3)\n",
            "48\n",
            "(720, 1280, 3)\n",
            "frame (720, 1280, 3)\n",
            "49\n",
            "(720, 1280, 3)\n",
            "frame (720, 1280, 3)\n",
            "50\n",
            "(720, 1280, 3)\n",
            "frame (720, 1280, 3)\n",
            "51\n",
            "(720, 1280, 3)\n",
            "frame (720, 1280, 3)\n",
            "52\n",
            "(720, 1280, 3)\n",
            "frame (720, 1280, 3)\n",
            "53\n",
            "(720, 1280, 3)\n",
            "frame (720, 1280, 3)\n",
            "54\n",
            "(720, 1280, 3)\n",
            "frame (720, 1280, 3)\n",
            "55\n",
            "(720, 1280, 3)\n",
            "frame (720, 1280, 3)\n",
            "56\n",
            "(720, 1280, 3)\n",
            "frame (720, 1280, 3)\n",
            "57\n",
            "(720, 1280, 3)\n",
            "frame (720, 1280, 3)\n",
            "58\n",
            "(720, 1280, 3)\n",
            "frame (720, 1280, 3)\n",
            "59\n",
            "(720, 1280, 3)\n",
            "frame (720, 1280, 3)\n",
            "60\n",
            "(720, 1280, 3)\n",
            "frame (720, 1280, 3)\n",
            "61\n",
            "(720, 1280, 3)\n",
            "frame (720, 1280, 3)\n",
            "62\n",
            "(720, 1280, 3)\n",
            "frame (720, 1280, 3)\n",
            "63\n",
            "(720, 1280, 3)\n",
            "frame (720, 1280, 3)\n",
            "64\n",
            "(720, 1280, 3)\n",
            "frame (720, 1280, 3)\n",
            "65\n",
            "(720, 1280, 3)\n",
            "frame (720, 1280, 3)\n",
            "66\n",
            "(720, 1280, 3)\n",
            "frame (720, 1280, 3)\n",
            "67\n",
            "(720, 1280, 3)\n",
            "frame (720, 1280, 3)\n",
            "68\n",
            "(720, 1280, 3)\n",
            "frame (720, 1280, 3)\n",
            "69\n",
            "(720, 1280, 3)\n",
            "frame (720, 1280, 3)\n",
            "70\n",
            "(720, 1280, 3)\n",
            "frame (720, 1280, 3)\n",
            "71\n",
            "(720, 1280, 3)\n",
            "frame (720, 1280, 3)\n",
            "72\n",
            "(720, 1280, 3)\n",
            "frame (720, 1280, 3)\n",
            "73\n",
            "(720, 1280, 3)\n",
            "frame (720, 1280, 3)\n",
            "74\n",
            "(720, 1280, 3)\n",
            "frame (720, 1280, 3)\n",
            "75\n",
            "(720, 1280, 3)\n",
            "frame (720, 1280, 3)\n",
            "76\n",
            "(720, 1280, 3)\n",
            "frame (720, 1280, 3)\n",
            "77\n",
            "(720, 1280, 3)\n",
            "frame (720, 1280, 3)\n",
            "78\n",
            "(720, 1280, 3)\n",
            "frame (720, 1280, 3)\n",
            "79\n",
            "(720, 1280, 3)\n",
            "frame (720, 1280, 3)\n",
            "80\n",
            "(720, 1280, 3)\n",
            "frame (720, 1280, 3)\n",
            "81\n",
            "(720, 1280, 3)\n",
            "frame (720, 1280, 3)\n",
            "82\n",
            "(720, 1280, 3)\n",
            "frame (720, 1280, 3)\n",
            "83\n",
            "(720, 1280, 3)\n",
            "frame (720, 1280, 3)\n",
            "84\n",
            "(720, 1280, 3)\n",
            "frame (720, 1280, 3)\n",
            "85\n",
            "(720, 1280, 3)\n",
            "frame (720, 1280, 3)\n",
            "86\n",
            "(720, 1280, 3)\n",
            "frame (720, 1280, 3)\n",
            "87\n",
            "(720, 1280, 3)\n",
            "frame (720, 1280, 3)\n",
            "88\n",
            "(720, 1280, 3)\n",
            "frame (720, 1280, 3)\n",
            "89\n",
            "(720, 1280, 3)\n",
            "frame (720, 1280, 3)\n",
            "90\n",
            "(720, 1280, 3)\n",
            "frame (720, 1280, 3)\n",
            "91\n",
            "(720, 1280, 3)\n",
            "frame (720, 1280, 3)\n",
            "92\n",
            "(720, 1280, 3)\n",
            "frame (720, 1280, 3)\n",
            "93\n",
            "(720, 1280, 3)\n",
            "frame (720, 1280, 3)\n",
            "94\n",
            "(720, 1280, 3)\n",
            "frame (720, 1280, 3)\n",
            "95\n",
            "(720, 1280, 3)\n",
            "frame (720, 1280, 3)\n",
            "96\n",
            "(720, 1280, 3)\n",
            "frame (720, 1280, 3)\n",
            "97\n",
            "(720, 1280, 3)\n",
            "frame (720, 1280, 3)\n",
            "98\n",
            "(720, 1280, 3)\n",
            "frame (720, 1280, 3)\n",
            "99\n",
            "(720, 1280, 3)\n",
            "frame (720, 1280, 3)\n",
            "100\n",
            "(720, 1280, 3)\n",
            "frame (720, 1280, 3)\n",
            "101\n",
            "(720, 1280, 3)\n",
            "frame (720, 1280, 3)\n",
            "102\n",
            "(720, 1280, 3)\n",
            "frame (720, 1280, 3)\n",
            "103\n",
            "(720, 1280, 3)\n",
            "frame (720, 1280, 3)\n",
            "104\n",
            "(720, 1280, 3)\n",
            "frame (720, 1280, 3)\n",
            "105\n",
            "(720, 1280, 3)\n",
            "frame (720, 1280, 3)\n",
            "106\n",
            "(720, 1280, 3)\n",
            "frame (720, 1280, 3)\n",
            "107\n",
            "(720, 1280, 3)\n",
            "frame (720, 1280, 3)\n",
            "108\n",
            "(720, 1280, 3)\n",
            "frame (720, 1280, 3)\n",
            "109\n",
            "(720, 1280, 3)\n",
            "frame (720, 1280, 3)\n",
            "110\n",
            "(720, 1280, 3)\n",
            "frame (720, 1280, 3)\n",
            "111\n",
            "(720, 1280, 3)\n",
            "frame (720, 1280, 3)\n",
            "112\n",
            "(720, 1280, 3)\n",
            "frame (720, 1280, 3)\n",
            "113\n",
            "(720, 1280, 3)\n",
            "frame (720, 1280, 3)\n",
            "114\n",
            "(720, 1280, 3)\n",
            "frame (720, 1280, 3)\n",
            "115\n",
            "(720, 1280, 3)\n",
            "frame (720, 1280, 3)\n",
            "116\n",
            "(720, 1280, 3)\n",
            "frame (720, 1280, 3)\n",
            "117\n",
            "(720, 1280, 3)\n",
            "frame (720, 1280, 3)\n",
            "118\n",
            "(720, 1280, 3)\n",
            "frame (720, 1280, 3)\n",
            "119\n",
            "(720, 1280, 3)\n",
            "frame (720, 1280, 3)\n",
            "120\n",
            "(720, 1280, 3)\n",
            "frame (720, 1280, 3)\n",
            "121\n",
            "(720, 1280, 3)\n",
            "frame (720, 1280, 3)\n",
            "122\n",
            "(720, 1280, 3)\n",
            "frame (720, 1280, 3)\n",
            "123\n",
            "(720, 1280, 3)\n",
            "frame (720, 1280, 3)\n",
            "124\n",
            "(720, 1280, 3)\n",
            "frame (720, 1280, 3)\n",
            "125\n",
            "(720, 1280, 3)\n",
            "frame (720, 1280, 3)\n",
            "126\n",
            "(720, 1280, 3)\n",
            "frame (720, 1280, 3)\n",
            "127\n",
            "(720, 1280, 3)\n",
            "frame (720, 1280, 3)\n",
            "128\n",
            "(720, 1280, 3)\n",
            "frame (720, 1280, 3)\n",
            "129\n",
            "(720, 1280, 3)\n",
            "frame (720, 1280, 3)\n",
            "130\n",
            "(720, 1280, 3)\n",
            "frame (720, 1280, 3)\n",
            "131\n",
            "(720, 1280, 3)\n",
            "frame (720, 1280, 3)\n",
            "132\n",
            "(720, 1280, 3)\n",
            "frame (720, 1280, 3)\n",
            "133\n",
            "(720, 1280, 3)\n",
            "frame (720, 1280, 3)\n",
            "134\n",
            "(720, 1280, 3)\n",
            "frame (720, 1280, 3)\n",
            "135\n",
            "(720, 1280, 3)\n",
            "frame (720, 1280, 3)\n",
            "136\n",
            "(720, 1280, 3)\n",
            "frame (720, 1280, 3)\n",
            "137\n",
            "(720, 1280, 3)\n",
            "frame (720, 1280, 3)\n",
            "138\n",
            "(720, 1280, 3)\n",
            "frame (720, 1280, 3)\n",
            "139\n",
            "(720, 1280, 3)\n",
            "frame (720, 1280, 3)\n",
            "140\n",
            "(720, 1280, 3)\n",
            "frame (720, 1280, 3)\n",
            "141\n",
            "(720, 1280, 3)\n",
            "frame (720, 1280, 3)\n",
            "142\n",
            "(720, 1280, 3)\n",
            "frame (720, 1280, 3)\n",
            "143\n",
            "(720, 1280, 3)\n",
            "frame (720, 1280, 3)\n",
            "144\n",
            "(720, 1280, 3)\n",
            "frame (720, 1280, 3)\n",
            "145\n",
            "(720, 1280, 3)\n",
            "frame (720, 1280, 3)\n",
            "146\n",
            "(720, 1280, 3)\n",
            "frame (720, 1280, 3)\n",
            "147\n",
            "(720, 1280, 3)\n",
            "frame (720, 1280, 3)\n",
            "148\n",
            "(720, 1280, 3)\n",
            "frame (720, 1280, 3)\n",
            "149\n",
            "(720, 1280, 3)\n",
            "frame (720, 1280, 3)\n",
            "150\n",
            "[INFO] elasped time: 88.78\n",
            "[INFO] approx. FPS: 1.69\n"
          ],
          "name": "stdout"
        }
      ]
    },
    {
      "cell_type": "code",
      "metadata": {
        "id": "lErMjp4OIq77",
        "colab_type": "code",
        "colab": {}
      },
      "source": [
        ""
      ],
      "execution_count": 0,
      "outputs": []
    },
    {
      "cell_type": "code",
      "metadata": {
        "id": "z60P8NbgIq_T",
        "colab_type": "code",
        "colab": {}
      },
      "source": [
        ""
      ],
      "execution_count": 0,
      "outputs": []
    },
    {
      "cell_type": "code",
      "metadata": {
        "id": "eq0Kc3vRIq5w",
        "colab_type": "code",
        "colab": {}
      },
      "source": [
        ""
      ],
      "execution_count": 0,
      "outputs": []
    },
    {
      "cell_type": "code",
      "metadata": {
        "id": "h4A5Uq4-Iq2y",
        "colab_type": "code",
        "colab": {}
      },
      "source": [
        ""
      ],
      "execution_count": 0,
      "outputs": []
    },
    {
      "cell_type": "code",
      "metadata": {
        "id": "YLV9FUNEIq1D",
        "colab_type": "code",
        "colab": {}
      },
      "source": [
        ""
      ],
      "execution_count": 0,
      "outputs": []
    },
    {
      "cell_type": "code",
      "metadata": {
        "id": "5csN3xtjIqvs",
        "colab_type": "code",
        "colab": {}
      },
      "source": [
        ""
      ],
      "execution_count": 0,
      "outputs": []
    },
    {
      "cell_type": "code",
      "metadata": {
        "id": "gItZHM1cIqqY",
        "colab_type": "code",
        "colab": {}
      },
      "source": [
        ""
      ],
      "execution_count": 0,
      "outputs": []
    },
    {
      "cell_type": "code",
      "metadata": {
        "id": "0q1Y7pjhIqfB",
        "colab_type": "code",
        "colab": {}
      },
      "source": [
        ""
      ],
      "execution_count": 0,
      "outputs": []
    },
    {
      "cell_type": "code",
      "metadata": {
        "id": "yOsYD64tIqZO",
        "colab_type": "code",
        "colab": {}
      },
      "source": [
        ""
      ],
      "execution_count": 0,
      "outputs": []
    },
    {
      "cell_type": "code",
      "metadata": {
        "id": "E15kRw0SIqTb",
        "colab_type": "code",
        "colab": {}
      },
      "source": [
        ""
      ],
      "execution_count": 0,
      "outputs": []
    },
    {
      "cell_type": "code",
      "metadata": {
        "id": "x5pnFF38IqN9",
        "colab_type": "code",
        "colab": {}
      },
      "source": [
        ""
      ],
      "execution_count": 0,
      "outputs": []
    },
    {
      "cell_type": "code",
      "metadata": {
        "id": "8Reqtv_zIqIv",
        "colab_type": "code",
        "colab": {}
      },
      "source": [
        ""
      ],
      "execution_count": 0,
      "outputs": []
    },
    {
      "cell_type": "code",
      "metadata": {
        "id": "k9hjMJwlIqCe",
        "colab_type": "code",
        "colab": {}
      },
      "source": [
        ""
      ],
      "execution_count": 0,
      "outputs": []
    }
  ]
}