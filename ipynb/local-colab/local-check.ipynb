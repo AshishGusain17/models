{
  "nbformat": 4,
  "nbformat_minor": 0,
  "metadata": {
    "accelerator": "GPU",
    "colab": {
      "name": "butterfly_detection_using_tf.ipynb",
      "provenance": [],
      "collapsed_sections": [],
      "include_colab_link": true
    },
    "kernelspec": {
      "display_name": "Python 3",
      "language": "python",
      "name": "python3"
    },
    "language_info": {
      "codemirror_mode": {
        "name": "ipython",
        "version": 3
      },
      "file_extension": ".py",
      "mimetype": "text/x-python",
      "name": "python",
      "nbconvert_exporter": "python",
      "pygments_lexer": "ipython3",
      "version": "3.7.6"
    }
  },
  "cells": [
    {
      "cell_type": "markdown",
      "metadata": {
        "id": "view-in-github",
        "colab_type": "text"
      },
      "source": [
        "<a href=\"https://colab.research.google.com/github/AshishGusain17/models/blob/honors/ipynb/local-colab/local-check.ipynb\" target=\"_parent\"><img src=\"https://colab.research.google.com/assets/colab-badge.svg\" alt=\"Open In Colab\"/></a>"
      ]
    },
    {
      "cell_type": "code",
      "metadata": {
        "colab_type": "code",
        "id": "trTtqpmHEWit",
        "colab": {}
      },
      "source": [
        "# pip install --user Cython\n",
        "# pip install --user contextlib2\n",
        "# pip install --user pillow\n",
        "# pip install --user lxml\n",
        "# pip install --user jupyter\n",
        "# pip install --user matplotlib"
      ],
      "execution_count": 0,
      "outputs": []
    },
    {
      "cell_type": "code",
      "metadata": {
        "id": "KV1nv2sYzUr1",
        "colab_type": "code",
        "colab": {
          "base_uri": "https://localhost:8080/",
          "height": 1000
        },
        "outputId": "74fd5bbc-509d-42ac-80b0-0debe553ad32"
      },
      "source": [
        "ls"
      ],
      "execution_count": 9,
      "outputs": [
        {
          "output_type": "stream",
          "text": [
            " Volume in drive C is Windows\n",
            " Volume Serial Number is 68D3-0A2F\n",
            "\n",
            " Directory of C:\\Users\\hp\n",
            "\n",
            "01-04-2020  00:55    <DIR>          .\n",
            "01-04-2020  00:55    <DIR>          ..\n",
            "23-08-2019  14:48    <DIR>          .3T\n",
            "24-09-2019  17:02    <DIR>          .anaconda\n",
            "01-04-2020  00:55            20,438 .boto\n",
            "25-03-2020  17:36    <DIR>          .cache\n",
            "18-01-2020  17:52    <DIR>          .conda\n",
            "22-04-2020  16:22                43 .condarc\n",
            "23-12-2019  18:27    <DIR>          .config\n",
            "22-03-2020  15:30               235 .gitconfig\n",
            "06-02-2020  14:36    <DIR>          .idlerc\n",
            "25-09-2019  14:16    <DIR>          .ipynb_checkpoints\n",
            "24-09-2019  17:11    <DIR>          .ipython\n",
            "20-04-2020  17:52    <DIR>          .jupyter\n",
            "19-01-2020  18:24    <DIR>          .keras\n",
            "17-02-2020  01:31    <DIR>          .kivy\n",
            "16-02-2020  14:33             1,450 .labelImgSettings.pkl\n",
            "26-09-2019  23:19    <DIR>          .matplotlib\n",
            "08-01-2020  14:12                89 .node_repl_history\n",
            "08-01-2020  14:55             9,641 .octave_hist\n",
            "12-09-2019  21:35    <DIR>          .PyCharmCE2019.2\n",
            "22-04-2020  16:43               963 .python_history\n",
            "18-01-2020  19:32    <DIR>          .spyder-py3\n",
            "22-03-2020  15:20    <DIR>          .ssh\n",
            "10-11-2019  21:04    <DIR>          .vscode\n",
            "22-03-2020  10:46               214 _netrc\n",
            "14-03-2020  19:51    <DIR>          3D Objects\n",
            "06-08-2019  22:00                 0 console.log(json))\n",
            "14-03-2020  19:51    <DIR>          Contacts\n",
            "24-04-2020  10:25    <DIR>          Creative Cloud Files\n",
            "23-04-2020  23:51    <DIR>          Desktop\n",
            "03-04-2020  10:55    <DIR>          Documents\n",
            "24-04-2020  22:30    <DIR>          Downloads\n",
            "14-03-2020  19:51    <DIR>          Favorites\n",
            "14-03-2020  19:51    <DIR>          Links\n",
            "14-03-2020  19:51    <DIR>          Music\n",
            "20-03-2020  09:41    <DIR>          node_modules\n",
            "15-04-2020  22:37    <DIR>          OneDrive\n",
            "20-03-2020  09:41            22,353 package-lock.json\n",
            "26-07-2019  20:47             1,190 Picasa 3.lnk\n",
            "14-03-2020  19:51    <DIR>          Pictures\n",
            "16-02-2020  20:56                 0 Procfile\n",
            "12-09-2019  22:17    <DIR>          PycharmProjects\n",
            "06-08-2019  21:58                 0 response.json())\n",
            "14-03-2020  19:51    <DIR>          Saved Games\n",
            "14-03-2020  19:51    <DIR>          Searches\n",
            "18-02-2020  23:12    <DIR>          source\n",
            "24-09-2019  23:57             2,562 Untitled.ipynb\n",
            "25-09-2019  14:30             8,646 Untitled1.ipynb\n",
            "14-03-2020  19:51    <DIR>          Videos\n",
            "10-03-2020  14:24    <DIR>          wekafiles\n",
            "              15 File(s)         67,824 bytes\n",
            "              36 Dir(s)  720,309,223,424 bytes free\n"
          ],
          "name": "stdout"
        }
      ]
    },
    {
      "cell_type": "code",
      "metadata": {
        "colab_type": "code",
        "id": "_ZK05pHYEeqk",
        "colab": {}
      },
      "source": [
        "%cd tf-obj-detection/research\n",
        "!python setup.py build\n",
        "!python setup.py install\n",
        "# %cd ../"
      ],
      "execution_count": 0,
      "outputs": []
    },
    {
      "cell_type": "code",
      "metadata": {
        "colab_type": "code",
        "id": "RNXxD8eZ2YsQ",
        "outputId": "c38e6dc4-7736-4f66-c82c-f38da89f5cdf",
        "colab": {
          "base_uri": "https://localhost:8080/",
          "height": 153
        }
      },
      "source": [
        "\n",
        "%cd /content/models/research\n",
        "%set_env PYTHONPATH=/content/models/research:/content/models/research/slim\n"
      ],
      "execution_count": 0,
      "outputs": [
        {
          "output_type": "stream",
          "text": [
            "/content/models/research\n",
            "env: PYTHONPATH=/content/models/research:/content/models/research/slim\n",
            "/content/models/research/object_detection/legacy\n",
            "/content/models/research/object_detection\n",
            "/content/models/research\n",
            "/content/models\n",
            "/content\n",
            "/\n"
          ],
          "name": "stdout"
        }
      ]
    },
    {
      "cell_type": "code",
      "metadata": {
        "colab_type": "code",
        "id": "WbgHogus2vUd",
        "colab": {}
      },
      "source": [
        "ls"
      ],
      "execution_count": 0,
      "outputs": []
    },
    {
      "cell_type": "code",
      "metadata": {
        "colab_type": "code",
        "id": "qsqlB4Ou83LS",
        "colab": {}
      },
      "source": [
        "import numpy as np\n",
        "import os\n",
        "import six.moves.urllib as urllib\n",
        "import sys\n",
        "import tarfile\n",
        "import tensorflow as tf\n",
        "import zipfile\n",
        "import os\n",
        "import pathlib\n",
        "from collections import defaultdict\n",
        "from io import StringIO\n",
        "from matplotlib import pyplot as plt\n",
        "from PIL import Image\n",
        "from IPython.display import display"
      ],
      "execution_count": 0,
      "outputs": []
    },
    {
      "cell_type": "code",
      "metadata": {
        "colab_type": "code",
        "id": "sLn07jfc83QZ",
        "colab": {}
      },
      "source": [
        "from object_detection.utils import ops as utils_ops\n",
        "from object_detection.utils import label_map_util\n",
        "from object_detection.utils import visualization_utils as vis_util"
      ],
      "execution_count": 0,
      "outputs": []
    },
    {
      "cell_type": "code",
      "metadata": {
        "colab_type": "code",
        "id": "HA-1aoMc83Yo",
        "colab": {}
      },
      "source": [
        "# patch tf1 into `utils.ops`\n",
        "utils_ops.tf = tf.compat.v1\n",
        "\n",
        "# Patch the location of gfile\n",
        "tf.gfile = tf.io.gfile"
      ],
      "execution_count": 0,
      "outputs": []
    },
    {
      "cell_type": "code",
      "metadata": {
        "colab_type": "code",
        "id": "Gch25hQW83cq",
        "colab": {}
      },
      "source": [
        ""
      ],
      "execution_count": 0,
      "outputs": []
    },
    {
      "cell_type": "code",
      "metadata": {
        "colab_type": "code",
        "id": "oRqk3P4B83Wv",
        "colab": {}
      },
      "source": [
        "PATH_TO_LABELS = 'object_detection/data/mscoco_label_map.pbtxt'\n",
        "category_index = label_map_util.create_category_index_from_labelmap(PATH_TO_LABELS, use_display_name=True)"
      ],
      "execution_count": 0,
      "outputs": []
    },
    {
      "cell_type": "code",
      "metadata": {
        "colab_type": "code",
        "id": "WMuiILYh83PX",
        "colab": {}
      },
      "source": [
        "# If you want to test the code with your images, just add path to the images to the TEST_IMAGE_PATHS.\n",
        "PATH_TO_TEST_IMAGES_DIR = pathlib.Path('/content/models/research/object_detection/test_images')\n",
        "TEST_IMAGE_PATHS = sorted(list(PATH_TO_TEST_IMAGES_DIR.glob(\"*.jpg\")))\n",
        "TEST_IMAGE_PATHS"
      ],
      "execution_count": 0,
      "outputs": []
    },
    {
      "cell_type": "code",
      "metadata": {
        "colab_type": "code",
        "id": "fzi2zv2ZIp69",
        "outputId": "9f1cdf6f-9cb5-452b-f84a-53f970dbeeaf",
        "colab": {
          "base_uri": "https://localhost:8080/",
          "height": 34
        }
      },
      "source": [
        "model_dir =  \"object_detection/mask_rcnn_inception_resnet_v2_atrous_coco_2018_01_28/saved_model\"\n",
        "model = tf.saved_model.load(str(model_dir))\n",
        "detection_model = model.signatures['serving_default']\n",
        "\n"
      ],
      "execution_count": 28,
      "outputs": [
        {
          "output_type": "stream",
          "text": [
            "INFO:tensorflow:Saver not created because there are no variables in the graph to restore\n"
          ],
          "name": "stdout"
        }
      ]
    },
    {
      "cell_type": "code",
      "metadata": {
        "colab_type": "code",
        "id": "ni-sZLBWIp-p",
        "outputId": "a74127cb-a4cb-4c2b-ab4f-bc288595d2aa",
        "colab": {
          "base_uri": "https://localhost:8080/",
          "height": 88
        }
      },
      "source": [
        "print(detection_model.inputs)\n",
        "print(detection_model.output_dtypes)\n",
        "print(detection_model.output_shapes)"
      ],
      "execution_count": 29,
      "outputs": [
        {
          "output_type": "stream",
          "text": [
            "[<tf.Tensor 'image_tensor:0' shape=(None, None, None, 3) dtype=uint8>]\n",
            "{'detection_scores': tf.float32, 'detection_classes': tf.float32, 'num_detections': tf.float32, 'detection_masks': tf.float32, 'detection_boxes': tf.float32}\n",
            "{'detection_scores': TensorShape([None, 100]), 'detection_classes': TensorShape([None, 100]), 'num_detections': TensorShape([None]), 'detection_masks': TensorShape([None, None, None, None]), 'detection_boxes': TensorShape([None, 100, 4])}\n"
          ],
          "name": "stdout"
        }
      ]
    },
    {
      "cell_type": "code",
      "metadata": {
        "colab_type": "code",
        "id": "p8mPN7d7IqPg",
        "colab": {}
      },
      "source": [
        "def run_inference_for_single_image(model, image):\n",
        "  image = np.asarray(image)\n",
        "  # The input needs to be a tensor, convert it using `tf.convert_to_tensor`.\n",
        "  input_tensor = tf.convert_to_tensor(image)\n",
        "  # The model expects a batch of images, so add an axis with `tf.newaxis`.\n",
        "  input_tensor = input_tensor[tf.newaxis,...]\n",
        "\n",
        "  # Run inference\n",
        "  output_dict = model(input_tensor)\n",
        "\n",
        "  # All outputs are batches tensors.\n",
        "  # Convert to numpy arrays, and take index [0] to remove the batch dimension.\n",
        "  # We're only interested in the first num_detections.\n",
        "  num_detections = int(output_dict.pop('num_detections'))\n",
        "  output_dict = {key:value[0, :num_detections].numpy() \n",
        "                 for key,value in output_dict.items()}\n",
        "  output_dict['num_detections'] = num_detections\n",
        "\n",
        "  # detection_classes should be ints.\n",
        "  output_dict['detection_classes'] = output_dict['detection_classes'].astype(np.int64)\n",
        "   \n",
        "  # Handle models with masks:\n",
        "  if 'detection_masks' in output_dict:\n",
        "    # Reframe the the bbox mask to the image size.\n",
        "    detection_masks_reframed = utils_ops.reframe_box_masks_to_image_masks(\n",
        "              output_dict['detection_masks'], output_dict['detection_boxes'],\n",
        "               image.shape[0], image.shape[1])      \n",
        "    detection_masks_reframed = tf.cast(detection_masks_reframed > 0.5,\n",
        "                                       tf.uint8)\n",
        "    output_dict['detection_masks_reframed'] = detection_masks_reframed.numpy()\n",
        "    \n",
        "  return output_dict"
      ],
      "execution_count": 0,
      "outputs": []
    },
    {
      "cell_type": "code",
      "metadata": {
        "colab_type": "code",
        "id": "tN4le2yHIqVD",
        "colab": {}
      },
      "source": [
        "def show_inference(model, image_path):\n",
        "  # the array based representation of the image will be used later in order to prepare the\n",
        "  # result image with boxes and labels on it.\n",
        "  # image_np = np.array(Image.open(image_path))\n",
        "  image_np = np.array(image_path)\n",
        "  print(image_np.shape)\n",
        "\n",
        "  # Actual detection.\n",
        "  output_dict = run_inference_for_single_image(model, image_np)\n",
        "  # Visualization of the results of a detection.\n",
        "  vis_util.visualize_boxes_and_labels_on_image_array(\n",
        "      image_np,\n",
        "      output_dict['detection_boxes'],\n",
        "      output_dict['detection_classes'],\n",
        "      output_dict['detection_scores'],\n",
        "      category_index,\n",
        "      instance_masks=output_dict.get('detection_masks_reframed', None),\n",
        "      use_normalized_coordinates=True,\n",
        "      line_thickness=8)\n",
        "\n",
        "  # display(Image.fromarray(image_np))\n",
        "  return image_np"
      ],
      "execution_count": 0,
      "outputs": []
    },
    {
      "cell_type": "code",
      "metadata": {
        "colab_type": "code",
        "id": "q5Nd2pDvIqap",
        "colab": {}
      },
      "source": [
        "# for image_path in TEST_IMAGE_PATHS:\n",
        "#   show_inference(detection_model, image_path)"
      ],
      "execution_count": 0,
      "outputs": []
    },
    {
      "cell_type": "code",
      "metadata": {
        "colab_type": "code",
        "id": "DZxC5R0NIqsP",
        "scrolled": true,
        "colab": {
          "base_uri": "https://localhost:8080/",
          "height": 323
        },
        "outputId": "6163b7ff-e1e3-4bfe-f048-11ff0ea97242"
      },
      "source": [
        "from collections import deque\n",
        "from imutils.video import VideoStream\n",
        "import numpy as np\n",
        "import argparse\n",
        "import cv2\n",
        "import imutils\n",
        "import time\n",
        "from sklearn.metrics import pairwise\n",
        "from imutils.video import FPS\n",
        "\n",
        "\n",
        "# cap=cv2.VideoCapture(0)\n",
        "cap=cv2.VideoCapture(\"../../GitHub/yolo_object_trace/videos/a.mp4\")\n",
        "fourcc = cv2.VideoWriter_fourcc(*'XVID')\n",
        "out1 = cv2.VideoWriter('i.avi', fourcc, 3.0, (int(cap.get(3)),int(cap.get(4))))\n",
        "fps = FPS().start()\n",
        "\n",
        "time.sleep(2.0)\n",
        "\n",
        "ctt = 0\n",
        "while True:\n",
        "    (grabbed, frame) = cap.read()\n",
        "    print('frame',frame.shape)\n",
        "\n",
        "    # resize the frame, blur it, and convert it to the HSV color space\n",
        "    # frame = imutils.resize(frame, width=600)\n",
        "    # print('frame_resize',frame.shape)\n",
        "    print(ctt)\n",
        "    ctt = ctt + 1\n",
        "    frame=show_inference(detection_model, frame)\n",
        "    if ctt>1670:\n",
        "        break\n",
        "\n",
        "    cv2.imshow(\"version\", frame)\n",
        "    out1.write(frame)\n",
        "    key=cv2.waitKey(100)\n",
        "    if key & 0xFF == ord(\"q\"):\n",
        "        break\n",
        "\n",
        "    # update the FPS counter\n",
        "    fps.update()\n",
        "\n",
        "# stop the timer and display FPS information\n",
        "fps.stop()\n",
        "print(\"[INFO] elasped time: {:.2f}\".format(fps.elapsed()))\n",
        "print(\"[INFO] approx. FPS: {:.2f}\".format(fps.fps()))\n",
        "cap.release()\n",
        "out1.release()\n",
        "cv2.destroyAllWindows() "
      ],
      "execution_count": 0,
      "outputs": [
        {
          "output_type": "stream",
          "text": [
            "frame (720, 1280, 3)\n",
            "0\n",
            "(720, 1280, 3)\n",
            "frame (720, 1280, 3)\n",
            "1\n",
            "(720, 1280, 3)\n",
            "frame (720, 1280, 3)\n",
            "2\n",
            "(720, 1280, 3)\n",
            "frame (720, 1280, 3)\n",
            "3\n",
            "(720, 1280, 3)\n",
            "frame (720, 1280, 3)\n",
            "4\n",
            "(720, 1280, 3)\n",
            "frame (720, 1280, 3)\n",
            "5\n",
            "(720, 1280, 3)\n"
          ],
          "name": "stdout"
        }
      ]
    },
    {
      "cell_type": "code",
      "metadata": {
        "colab_type": "code",
        "id": "nyiPjgi1Iqxf",
        "colab": {},
        "outputId": "ae92bcb9-4bbe-4a93-ef8e-03e3717e5014"
      },
      "source": [
        "cd research"
      ],
      "execution_count": 0,
      "outputs": [
        {
          "output_type": "stream",
          "text": [
            "C:\\Users\\hp\\Desktop\\tf-obj-detection\\research\n"
          ],
          "name": "stdout"
        }
      ]
    },
    {
      "cell_type": "code",
      "metadata": {
        "colab_type": "code",
        "id": "lErMjp4OIq77",
        "colab": {},
        "outputId": "787b3508-1fb5-4afe-f5e9-89e89f6b47e1"
      },
      "source": [
        "ls"
      ],
      "execution_count": 0,
      "outputs": [
        {
          "output_type": "stream",
          "text": [
            " Volume in drive C is Windows\n",
            " Volume Serial Number is 68D3-0A2F\n",
            "\n",
            " Directory of C:\\Users\\hp\\Desktop\\tf-obj-detection\n",
            "\n",
            "23-04-2020  23:52    <DIR>          .\n",
            "23-04-2020  23:52    <DIR>          ..\n",
            "22-04-2020  01:18    <DIR>          .github\n",
            "22-04-2020  01:18             1,398 .gitignore\n",
            "22-04-2020  01:18                 0 .gitmodules\n",
            "05-03-2020  11:25       134,056,826 a.mp4\n",
            "22-04-2020  01:18               347 AUTHORS\n",
            "22-04-2020  01:18             2,525 CODEOWNERS\n",
            "22-04-2020  01:18             1,476 CONTRIBUTING.md\n",
            "23-04-2020  23:52    <DIR>          ipynb\n",
            "22-04-2020  01:18             2,093 ISSUE_TEMPLATE.md\n",
            "22-04-2020  01:18             1,146 ISSUES.md\n",
            "22-04-2020  01:18            11,608 LICENSE\n",
            "22-04-2020  01:18    <DIR>          official\n",
            "22-04-2020  01:18             1,279 README.md\n",
            "23-04-2020  23:17    <DIR>          research\n",
            "22-04-2020  01:18                 0 WORKSPACE\n",
            "              11 File(s)    134,078,698 bytes\n",
            "               6 Dir(s)  719,076,929,536 bytes free\n"
          ],
          "name": "stdout"
        }
      ]
    },
    {
      "cell_type": "code",
      "metadata": {
        "colab_type": "code",
        "id": "z60P8NbgIq_T",
        "colab": {}
      },
      "source": [
        ""
      ],
      "execution_count": 0,
      "outputs": []
    },
    {
      "cell_type": "code",
      "metadata": {
        "colab_type": "code",
        "id": "eq0Kc3vRIq5w",
        "colab": {}
      },
      "source": [
        ""
      ],
      "execution_count": 0,
      "outputs": []
    },
    {
      "cell_type": "code",
      "metadata": {
        "colab_type": "code",
        "id": "h4A5Uq4-Iq2y",
        "colab": {}
      },
      "source": [
        ""
      ],
      "execution_count": 0,
      "outputs": []
    },
    {
      "cell_type": "code",
      "metadata": {
        "colab_type": "code",
        "id": "YLV9FUNEIq1D",
        "colab": {}
      },
      "source": [
        ""
      ],
      "execution_count": 0,
      "outputs": []
    },
    {
      "cell_type": "code",
      "metadata": {
        "colab_type": "code",
        "id": "5csN3xtjIqvs",
        "colab": {}
      },
      "source": [
        ""
      ],
      "execution_count": 0,
      "outputs": []
    },
    {
      "cell_type": "code",
      "metadata": {
        "colab_type": "code",
        "id": "gItZHM1cIqqY",
        "colab": {}
      },
      "source": [
        ""
      ],
      "execution_count": 0,
      "outputs": []
    },
    {
      "cell_type": "code",
      "metadata": {
        "colab_type": "code",
        "id": "0q1Y7pjhIqfB",
        "colab": {}
      },
      "source": [
        "cd"
      ],
      "execution_count": 0,
      "outputs": []
    },
    {
      "cell_type": "code",
      "metadata": {
        "colab_type": "code",
        "id": "yOsYD64tIqZO",
        "colab": {}
      },
      "source": [
        "ls"
      ],
      "execution_count": 0,
      "outputs": []
    },
    {
      "cell_type": "code",
      "metadata": {
        "colab_type": "code",
        "id": "E15kRw0SIqTb",
        "colab": {}
      },
      "source": [
        ""
      ],
      "execution_count": 0,
      "outputs": []
    },
    {
      "cell_type": "code",
      "metadata": {
        "colab_type": "code",
        "id": "x5pnFF38IqN9",
        "colab": {}
      },
      "source": [
        ""
      ],
      "execution_count": 0,
      "outputs": []
    },
    {
      "cell_type": "code",
      "metadata": {
        "colab_type": "code",
        "id": "8Reqtv_zIqIv",
        "colab": {}
      },
      "source": [
        ""
      ],
      "execution_count": 0,
      "outputs": []
    },
    {
      "cell_type": "code",
      "metadata": {
        "id": "kzdajNYtN8OH",
        "colab_type": "code",
        "colab": {}
      },
      "source": [
        ""
      ],
      "execution_count": 0,
      "outputs": []
    }
  ]
}